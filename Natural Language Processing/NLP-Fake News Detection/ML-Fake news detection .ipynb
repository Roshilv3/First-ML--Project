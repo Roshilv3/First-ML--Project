{
 "cells": [
  {
   "cell_type": "markdown",
   "id": "ff1acab9-d037-4c8a-811b-3ef85f524fd3",
   "metadata": {},
   "source": [
    "# **Fake News Detection**\n",
    "\n",
    "> Introduction to the Fake news dataset\n",
    "\n",
    "> Flow of Project"
   ]
  },
  {
   "cell_type": "markdown",
   "id": "a3ccdf50-191d-41c4-baac-69cf5abfe610",
   "metadata": {},
   "source": [
    "#### __Fake News__\n",
    "Fake news refers to false or misleading information presented as if it were true, often spread through various media outlets, including social media, websites, television, and more. This information is intentionally fabricated to deceive readers, viewers, or listeners, and it can take various forms, such as articles, images, videos, and memes.\n",
    "\n",
    "Fake news can have several purposes, including:\n",
    "\n",
    "1. **Misinformation:** Deliberately spreading false information to mislead or confuse people about certain events, issues, or individuals.\n",
    "\n",
    "2. **Disinformation:** Sharing fabricated content to promote a specific agenda, shape public opinion, or create chaos within a society.\n",
    "\n",
    "3. **Clickbait:** Creating sensational and false headlines to attract clicks and generate advertising revenue.\n",
    "\n",
    "4. **Satire:** Presenting fictional stories or content as a form of humor or satire, often to criticize or comment on real-world issues.\n",
    "\n",
    "5. **Hoaxes:** Spreading false stories or events that appear to be real, often causing panic or confusion.\n",
    "\n",
    "The spread of fake news can have serious consequences, including the distortion of public perception, erosion of trust in reliable sources, and even influencing political outcomes. In recent years, the rapid spread of fake news has been facilitated by the ease of sharing information on social media platforms, making it crucial for consumers to critically evaluate the sources and credibility of the information they encounter. Fact-checking, critical thinking, and relying on reputable news sources are essential strategies for combating the impact of fake news."
   ]
  },
  {
   "cell_type": "markdown",
   "id": "572dc66b-05e1-4518-b9fe-92f5fcce7c47",
   "metadata": {},
   "source": [
    "### __Flow of Project__\n",
    "\n",
    "1. Importing the Required Libraries\n",
    "2. Importing the dataset   _Downloaded from kaggle_\n",
    "3. Create the class\n",
    "4. Plotting the class\n",
    "5. Preprocessing and Cleaning\n",
    "    - Clean Text\n",
    "    - Remove Accented words\n",
    "6. Feature Engineering\n",
    "    - Train-Test Split\n",
    "    - TFIDF Vectorization\n",
    "7. Classififation Models\n",
    "    - Logistics Regression\n",
    "    - Random Forest Classifier\n",
    "    - Decision Tree Classifier\n",
    "8. Classification Report\n",
    "9. Confusion Matrix\n",
    "10. Manual Testing"
   ]
  },
  {
   "cell_type": "code",
   "execution_count": 1,
   "id": "d7ed927d-3ffc-4365-93ae-406a2e114ea7",
   "metadata": {
    "tags": []
   },
   "outputs": [],
   "source": [
    "# Importing Required Libraries\n",
    "import pandas as pd\n",
    "import numpy as np\n",
    "import seaborn as sns\n",
    "import matplotlib.pyplot as plt\n",
    "import plotly.express as ex\n",
    "\n",
    "import spacy\n",
    "\n",
    "import emoji\n",
    "\n",
    "from sklearn.model_selection import train_test_split\n",
    "from sklearn.feature_extraction.text import TfidfVectorizer\n",
    "\n",
    "from sklearn.linear_model import LogisticRegression\n",
    "from sklearn.ensemble import RandomForestClassifier\n",
    "from sklearn.tree import DecisionTreeClassifier\n",
    "\n",
    "from sklearn.metrics import ConfusionMatrixDisplay, accuracy_score, classification_report\n",
    "\n",
    "import re\n",
    "import contractions\n",
    "import string\n",
    "import unicodedata"
   ]
  },
  {
   "cell_type": "code",
   "execution_count": 2,
   "id": "1420ab08-71e4-483c-9654-d6592c4ef998",
   "metadata": {
    "tags": []
   },
   "outputs": [],
   "source": [
    "df_fake=pd.read_csv('fake.csv')\n",
    "df_true=pd.read_csv('True.csv')"
   ]
  },
  {
   "cell_type": "code",
   "execution_count": 3,
   "id": "e0c82014-41ea-4edf-96c1-ac004e56c6b3",
   "metadata": {
    "tags": []
   },
   "outputs": [
    {
     "name": "stdout",
     "output_type": "stream",
     "text": [
      "(23481, 4) (21417, 4)\n"
     ]
    }
   ],
   "source": [
    "print(df_fake.shape, df_true.shape)"
   ]
  },
  {
   "cell_type": "code",
   "execution_count": 4,
   "id": "52820822-81e7-46f2-bfa9-64f9f4ae693d",
   "metadata": {
    "tags": []
   },
   "outputs": [],
   "source": [
    "df_fake['Class']=0\n",
    "df_true['Class']=1"
   ]
  },
  {
   "cell_type": "code",
   "execution_count": 5,
   "id": "155e3c8c-9bc7-4da2-bd48-6f481569a364",
   "metadata": {
    "tags": []
   },
   "outputs": [],
   "source": [
    "df = pd.concat([df_fake, df_true], ignore_index=True)"
   ]
  },
  {
   "cell_type": "code",
   "execution_count": 6,
   "id": "915a44e0-e504-435b-8dec-cd36ee4bd8ef",
   "metadata": {
    "tags": []
   },
   "outputs": [],
   "source": [
    "# Shuffling the data\n",
    "df = df.sample(frac=1).reset_index(drop=True)"
   ]
  },
  {
   "cell_type": "code",
   "execution_count": 7,
   "id": "9164570a-69be-4ef2-b1fa-6359f9c57417",
   "metadata": {
    "tags": []
   },
   "outputs": [
    {
     "data": {
      "text/plain": [
       "(44898, 5)"
      ]
     },
     "execution_count": 7,
     "metadata": {},
     "output_type": "execute_result"
    }
   ],
   "source": [
    "df.shape"
   ]
  },
  {
   "cell_type": "code",
   "execution_count": 8,
   "id": "21431571-1166-4884-b963-534b10cb082a",
   "metadata": {
    "tags": []
   },
   "outputs": [
    {
     "data": {
      "text/html": [
       "<div>\n",
       "<style scoped>\n",
       "    .dataframe tbody tr th:only-of-type {\n",
       "        vertical-align: middle;\n",
       "    }\n",
       "\n",
       "    .dataframe tbody tr th {\n",
       "        vertical-align: top;\n",
       "    }\n",
       "\n",
       "    .dataframe thead th {\n",
       "        text-align: right;\n",
       "    }\n",
       "</style>\n",
       "<table border=\"1\" class=\"dataframe\">\n",
       "  <thead>\n",
       "    <tr style=\"text-align: right;\">\n",
       "      <th></th>\n",
       "      <th>title</th>\n",
       "      <th>text</th>\n",
       "      <th>subject</th>\n",
       "      <th>date</th>\n",
       "      <th>Class</th>\n",
       "    </tr>\n",
       "  </thead>\n",
       "  <tbody>\n",
       "    <tr>\n",
       "      <th>0</th>\n",
       "      <td>‘Pharma Bro’ Just Yelled This At Hillary To R...</td>\n",
       "      <td>You may have heard that Hillary Clinton had a ...</td>\n",
       "      <td>News</td>\n",
       "      <td>September 11, 2016</td>\n",
       "      <td>0</td>\n",
       "    </tr>\n",
       "    <tr>\n",
       "      <th>1</th>\n",
       "      <td>U.S. vote authorities warned to be alert to Ru...</td>\n",
       "      <td>(Reuters) - U.S. intelligence and law enforcem...</td>\n",
       "      <td>politicsNews</td>\n",
       "      <td>October 21, 2016</td>\n",
       "      <td>1</td>\n",
       "    </tr>\n",
       "    <tr>\n",
       "      <th>2</th>\n",
       "      <td>World's largest amphibious aircraft makes maid...</td>\n",
       "      <td>BEIJING (Reuters) - China s domestically devel...</td>\n",
       "      <td>worldnews</td>\n",
       "      <td>December 24, 2017</td>\n",
       "      <td>1</td>\n",
       "    </tr>\n",
       "    <tr>\n",
       "      <th>3</th>\n",
       "      <td>Putin, Trump to discuss North Korea on Tuesday...</td>\n",
       "      <td>MOSCOW (Reuters) - Russian President Vladimir ...</td>\n",
       "      <td>worldnews</td>\n",
       "      <td>November 21, 2017</td>\n",
       "      <td>1</td>\n",
       "    </tr>\n",
       "    <tr>\n",
       "      <th>4</th>\n",
       "      <td>Court ruling favors Ghana in ocean border disp...</td>\n",
       "      <td>DAKAR/ACCRA (Reuters) - The International Trib...</td>\n",
       "      <td>worldnews</td>\n",
       "      <td>September 23, 2017</td>\n",
       "      <td>1</td>\n",
       "    </tr>\n",
       "  </tbody>\n",
       "</table>\n",
       "</div>"
      ],
      "text/plain": [
       "                                               title  \\\n",
       "0   ‘Pharma Bro’ Just Yelled This At Hillary To R...   \n",
       "1  U.S. vote authorities warned to be alert to Ru...   \n",
       "2  World's largest amphibious aircraft makes maid...   \n",
       "3  Putin, Trump to discuss North Korea on Tuesday...   \n",
       "4  Court ruling favors Ghana in ocean border disp...   \n",
       "\n",
       "                                                text       subject  \\\n",
       "0  You may have heard that Hillary Clinton had a ...          News   \n",
       "1  (Reuters) - U.S. intelligence and law enforcem...  politicsNews   \n",
       "2  BEIJING (Reuters) - China s domestically devel...     worldnews   \n",
       "3  MOSCOW (Reuters) - Russian President Vladimir ...     worldnews   \n",
       "4  DAKAR/ACCRA (Reuters) - The International Trib...     worldnews   \n",
       "\n",
       "                  date  Class  \n",
       "0   September 11, 2016      0  \n",
       "1    October 21, 2016       1  \n",
       "2   December 24, 2017       1  \n",
       "3   November 21, 2017       1  \n",
       "4  September 23, 2017       1  "
      ]
     },
     "execution_count": 8,
     "metadata": {},
     "output_type": "execute_result"
    }
   ],
   "source": [
    "df.head()"
   ]
  },
  {
   "cell_type": "code",
   "execution_count": 9,
   "id": "4323fe8e-6726-42c0-9fe6-2fa8be56885a",
   "metadata": {
    "tags": []
   },
   "outputs": [],
   "source": [
    "df = df.drop(labels=['title','subject','date'],axis=1)"
   ]
  },
  {
   "cell_type": "code",
   "execution_count": 10,
   "id": "78a3e70a-7524-4b6b-9728-705c990e1e48",
   "metadata": {
    "tags": []
   },
   "outputs": [
    {
     "data": {
      "text/html": [
       "<div>\n",
       "<style scoped>\n",
       "    .dataframe tbody tr th:only-of-type {\n",
       "        vertical-align: middle;\n",
       "    }\n",
       "\n",
       "    .dataframe tbody tr th {\n",
       "        vertical-align: top;\n",
       "    }\n",
       "\n",
       "    .dataframe thead th {\n",
       "        text-align: right;\n",
       "    }\n",
       "</style>\n",
       "<table border=\"1\" class=\"dataframe\">\n",
       "  <thead>\n",
       "    <tr style=\"text-align: right;\">\n",
       "      <th></th>\n",
       "      <th>text</th>\n",
       "      <th>Class</th>\n",
       "    </tr>\n",
       "  </thead>\n",
       "  <tbody>\n",
       "    <tr>\n",
       "      <th>0</th>\n",
       "      <td>You may have heard that Hillary Clinton had a ...</td>\n",
       "      <td>0</td>\n",
       "    </tr>\n",
       "    <tr>\n",
       "      <th>1</th>\n",
       "      <td>(Reuters) - U.S. intelligence and law enforcem...</td>\n",
       "      <td>1</td>\n",
       "    </tr>\n",
       "    <tr>\n",
       "      <th>2</th>\n",
       "      <td>BEIJING (Reuters) - China s domestically devel...</td>\n",
       "      <td>1</td>\n",
       "    </tr>\n",
       "    <tr>\n",
       "      <th>3</th>\n",
       "      <td>MOSCOW (Reuters) - Russian President Vladimir ...</td>\n",
       "      <td>1</td>\n",
       "    </tr>\n",
       "    <tr>\n",
       "      <th>4</th>\n",
       "      <td>DAKAR/ACCRA (Reuters) - The International Trib...</td>\n",
       "      <td>1</td>\n",
       "    </tr>\n",
       "  </tbody>\n",
       "</table>\n",
       "</div>"
      ],
      "text/plain": [
       "                                                text  Class\n",
       "0  You may have heard that Hillary Clinton had a ...      0\n",
       "1  (Reuters) - U.S. intelligence and law enforcem...      1\n",
       "2  BEIJING (Reuters) - China s domestically devel...      1\n",
       "3  MOSCOW (Reuters) - Russian President Vladimir ...      1\n",
       "4  DAKAR/ACCRA (Reuters) - The International Trib...      1"
      ]
     },
     "execution_count": 10,
     "metadata": {},
     "output_type": "execute_result"
    }
   ],
   "source": [
    "df.head()"
   ]
  },
  {
   "cell_type": "code",
   "execution_count": 11,
   "id": "ec6b58e8-2ee1-40d8-8608-f767140e8660",
   "metadata": {
    "tags": []
   },
   "outputs": [
    {
     "data": {
      "text/plain": [
       "text     0\n",
       "Class    0\n",
       "dtype: int64"
      ]
     },
     "execution_count": 11,
     "metadata": {},
     "output_type": "execute_result"
    }
   ],
   "source": [
    "df.isnull().sum()"
   ]
  },
  {
   "cell_type": "markdown",
   "id": "73c60094-4de0-4274-bbe1-04ffb255392c",
   "metadata": {
    "tags": []
   },
   "source": [
    "### Plotting the class"
   ]
  },
  {
   "cell_type": "code",
   "execution_count": 12,
   "id": "ba2e024a-218c-4602-9445-eed3dec58d38",
   "metadata": {
    "tags": []
   },
   "outputs": [
    {
     "data": {
      "text/plain": [
       "<Axes: xlabel='Class', ylabel='count'>"
      ]
     },
     "execution_count": 12,
     "metadata": {},
     "output_type": "execute_result"
    },
    {
     "data": {
      "image/png": "[encoded data removed]",
      "text/plain": [
       "<Figure size 640x480 with 1 Axes>"
      ]
     },
     "metadata": {},
     "output_type": "display_data"
    }
   ],
   "source": [
    "sns.countplot(data = df,x = \"Class\")"
   ]
  },
  {
   "cell_type": "markdown",
   "id": "194979fa-a4bd-4ae7-8de8-c2c0f01ddd4a",
   "metadata": {},
   "source": [
    "### Cleaning the Data"
   ]
  },
  {
   "cell_type": "code",
   "execution_count": 13,
   "id": "ec4766d0-6544-4e5e-bd29-901b18331053",
   "metadata": {},
   "outputs": [],
   "source": [
    "# Defining the function which cleans the data\n",
    "\n",
    "def clean_text(text):\n",
    "    text = emoji.demojize(text)  # fix emojis\n",
    "    text = contractions.fix(text)  # fix contractions\n",
    "    text = re.sub(r'[^\\x00-\\x7f]', r'', text)  # remove strange fonts\n",
    "    text = re.sub(r\"\\d+\", \"number\", text)  # replace numbers with \"number\"\n",
    "    text = re.sub(r'[^\\w\\s]', '', text)  # remove non-alphanumeric chars\n",
    "    text = text.replace('_', ' ')  # replace underscores with space\n",
    "    text = re.sub(r'[^A-Z a-z 0-9-]+','', text)\n",
    "    text = text.strip()  # strip extra spaces\n",
    "    text = text.lower()  # lowering the text\n",
    "   \n",
    "    return text"
   ]
  },
  {
   "cell_type": "code",
   "execution_count": 14,
   "id": "bba9582e-1272-41c7-96a9-7855852ce23a",
   "metadata": {},
   "outputs": [
    {
     "name": "stdout",
     "output_type": "stream",
     "text": [
      "CPU times: total: 2min 44s\n",
      "Wall time: 3min 17s\n"
     ]
    }
   ],
   "source": [
    "%%time\n",
    "df['text'] = df['text'].apply(clean_text)"
   ]
  },
  {
   "cell_type": "code",
   "execution_count": 15,
   "id": "dbd76834-2119-4701-9f00-9bee7e5632f3",
   "metadata": {},
   "outputs": [],
   "source": [
    "# Removing Accented words if exist\n",
    "\n",
    "def remove_accented(x):\n",
    "    x = unicodedata.normalize(\"NFKD\", x).encode('ascii', 'ignore').decode('utf-8', 'ignore')\n",
    "    return x"
   ]
  },
  {
   "cell_type": "code",
   "execution_count": 16,
   "id": "d734d8ee-ae67-4bbc-a0e5-f783edbebcc0",
   "metadata": {},
   "outputs": [],
   "source": [
    "df['text'] = df['text'].apply(remove_accented)"
   ]
  },
  {
   "cell_type": "markdown",
   "id": "705fedc2-7b0c-409a-bc5e-879d6940bc49",
   "metadata": {},
   "source": [
    "### Train Test Split"
   ]
  },
  {
   "cell_type": "code",
   "execution_count": 17,
   "id": "1307c577-54cc-4821-8c13-848ebd161194",
   "metadata": {
    "tags": []
   },
   "outputs": [],
   "source": [
    "x = df['text']\n",
    "y = df['Class']\n",
    "\n",
    "x_train,x_test,y_train,y_test = train_test_split(x,y,test_size=0.3)"
   ]
  },
  {
   "cell_type": "markdown",
   "id": "18142c9d-2d93-45a8-8373-d7e5a1e54280",
   "metadata": {},
   "source": [
    "### TFIDF Vector"
   ]
  },
  {
   "cell_type": "code",
   "execution_count": 18,
   "id": "c4033c72-1daf-47d0-b14c-333409cdd5a7",
   "metadata": {
    "tags": []
   },
   "outputs": [],
   "source": [
    "tf = TfidfVectorizer()\n",
    "xv_train = tf.fit_transform(x_train)\n",
    "xv_test = tf.transform(x_test)"
   ]
  },
  {
   "cell_type": "markdown",
   "id": "01563911-d390-4dc8-a398-7dbcf5df325b",
   "metadata": {},
   "source": [
    "#### Logistic Regression"
   ]
  },
  {
   "cell_type": "code",
   "execution_count": 19,
   "id": "bc78ad25-9c05-48e0-927f-790c74a435e7",
   "metadata": {
    "tags": []
   },
   "outputs": [
    {
     "data": {
      "text/html": [
       "<style>#sk-container-id-1 {color: black;background-color: white;}#sk-container-id-1 pre{padding: 0;}#sk-container-id-1 div.sk-toggleable {background-color: white;}#sk-container-id-1 label.sk-toggleable__label {cursor: pointer;display: block;width: 100%;margin-bottom: 0;padding: 0.3em;box-sizing: border-box;text-align: center;}#sk-container-id-1 label.sk-toggleable__label-arrow:before {content: \"▸\";float: left;margin-right: 0.25em;color: #696969;}#sk-container-id-1 label.sk-toggleable__label-arrow:hover:before {color: black;}#sk-container-id-1 div.sk-estimator:hover label.sk-toggleable__label-arrow:before {color: black;}#sk-container-id-1 div.sk-toggleable__content {max-height: 0;max-width: 0;overflow: hidden;text-align: left;background-color: #f0f8ff;}#sk-container-id-1 div.sk-toggleable__content pre {margin: 0.2em;color: black;border-radius: 0.25em;background-color: #f0f8ff;}#sk-container-id-1 input.sk-toggleable__control:checked~div.sk-toggleable__content {max-height: 200px;max-width: 100%;overflow: auto;}#sk-container-id-1 input.sk-toggleable__control:checked~label.sk-toggleable__label-arrow:before {content: \"▾\";}#sk-container-id-1 div.sk-estimator input.sk-toggleable__control:checked~label.sk-toggleable__label {background-color: #d4ebff;}#sk-container-id-1 div.sk-label input.sk-toggleable__control:checked~label.sk-toggleable__label {background-color: #d4ebff;}#sk-container-id-1 input.sk-hidden--visually {border: 0;clip: rect(1px 1px 1px 1px);clip: rect(1px, 1px, 1px, 1px);height: 1px;margin: -1px;overflow: hidden;padding: 0;position: absolute;width: 1px;}#sk-container-id-1 div.sk-estimator {font-family: monospace;background-color: #f0f8ff;border: 1px dotted black;border-radius: 0.25em;box-sizing: border-box;margin-bottom: 0.5em;}#sk-container-id-1 div.sk-estimator:hover {background-color: #d4ebff;}#sk-container-id-1 div.sk-parallel-item::after {content: \"\";width: 100%;border-bottom: 1px solid gray;flex-grow: 1;}#sk-container-id-1 div.sk-label:hover label.sk-toggleable__label {background-color: #d4ebff;}#sk-container-id-1 div.sk-serial::before {content: \"\";position: absolute;border-left: 1px solid gray;box-sizing: border-box;top: 0;bottom: 0;left: 50%;z-index: 0;}#sk-container-id-1 div.sk-serial {display: flex;flex-direction: column;align-items: center;background-color: white;padding-right: 0.2em;padding-left: 0.2em;position: relative;}#sk-container-id-1 div.sk-item {position: relative;z-index: 1;}#sk-container-id-1 div.sk-parallel {display: flex;align-items: stretch;justify-content: center;background-color: white;position: relative;}#sk-container-id-1 div.sk-item::before, #sk-container-id-1 div.sk-parallel-item::before {content: \"\";position: absolute;border-left: 1px solid gray;box-sizing: border-box;top: 0;bottom: 0;left: 50%;z-index: -1;}#sk-container-id-1 div.sk-parallel-item {display: flex;flex-direction: column;z-index: 1;position: relative;background-color: white;}#sk-container-id-1 div.sk-parallel-item:first-child::after {align-self: flex-end;width: 50%;}#sk-container-id-1 div.sk-parallel-item:last-child::after {align-self: flex-start;width: 50%;}#sk-container-id-1 div.sk-parallel-item:only-child::after {width: 0;}#sk-container-id-1 div.sk-dashed-wrapped {border: 1px dashed gray;margin: 0 0.4em 0.5em 0.4em;box-sizing: border-box;padding-bottom: 0.4em;background-color: white;}#sk-container-id-1 div.sk-label label {font-family: monospace;font-weight: bold;display: inline-block;line-height: 1.2em;}#sk-container-id-1 div.sk-label-container {text-align: center;}#sk-container-id-1 div.sk-container {/* jupyter's `normalize.less` sets `[hidden] { display: none; }` but bootstrap.min.css set `[hidden] { display: none !important; }` so we also need the `!important` here to be able to override the default hidden behavior on the sphinx rendered scikit-learn.org. See: https://github.com/scikit-learn/scikit-learn/issues/21755 */display: inline-block !important;position: relative;}#sk-container-id-1 div.sk-text-repr-fallback {display: none;}</style><div id=\"sk-container-id-1\" class=\"sk-top-container\"><div class=\"sk-text-repr-fallback\"><pre>LogisticRegression()</pre><b>In a Jupyter environment, please rerun this cell to show the HTML representation or trust the notebook. <br />On GitHub, the HTML representation is unable to render, please try loading this page with nbviewer.org.</b></div><div class=\"sk-container\" hidden><div class=\"sk-item\"><div class=\"sk-estimator sk-toggleable\"><input class=\"sk-toggleable__control sk-hidden--visually\" id=\"sk-estimator-id-1\" type=\"checkbox\" checked><label for=\"sk-estimator-id-1\" class=\"sk-toggleable__label sk-toggleable__label-arrow\">LogisticRegression</label><div class=\"sk-toggleable__content\"><pre>LogisticRegression()</pre></div></div></div></div></div>"
      ],
      "text/plain": [
       "LogisticRegression()"
      ]
     },
     "execution_count": 19,
     "metadata": {},
     "output_type": "execute_result"
    }
   ],
   "source": [
    "lr = LogisticRegression()\n",
    "lr.fit(xv_train,y_train)"
   ]
  },
  {
   "cell_type": "code",
   "execution_count": 20,
   "id": "06747199-7a7a-428e-8aaa-9d2babc3d86e",
   "metadata": {
    "tags": []
   },
   "outputs": [],
   "source": [
    "lr_pred = lr.predict(xv_test)"
   ]
  },
  {
   "cell_type": "code",
   "execution_count": 21,
   "id": "55c1fda3-367f-420a-a3fb-931c335eda5e",
   "metadata": {
    "tags": []
   },
   "outputs": [
    {
     "data": {
      "text/plain": [
       "0.9867112100965107"
      ]
     },
     "execution_count": 21,
     "metadata": {},
     "output_type": "execute_result"
    }
   ],
   "source": [
    "lr.score(xv_test,y_test)"
   ]
  },
  {
   "cell_type": "code",
   "execution_count": 22,
   "id": "4eb05f6f-8739-498e-8310-ad080206b8ed",
   "metadata": {
    "tags": []
   },
   "outputs": [
    {
     "name": "stdout",
     "output_type": "stream",
     "text": [
      "              precision    recall  f1-score   support\n",
      "\n",
      "           0       0.99      0.99      0.99      7009\n",
      "           1       0.99      0.99      0.99      6461\n",
      "\n",
      "    accuracy                           0.99     13470\n",
      "   macro avg       0.99      0.99      0.99     13470\n",
      "weighted avg       0.99      0.99      0.99     13470\n",
      "\n"
     ]
    }
   ],
   "source": [
    "print(classification_report(y_test,lr_pred))"
   ]
  },
  {
   "cell_type": "markdown",
   "id": "b9cca2d6-f70c-4f39-8d67-ef694703f193",
   "metadata": {},
   "source": [
    "#### Random Forest Classifier"
   ]
  },
  {
   "cell_type": "code",
   "execution_count": 23,
   "id": "bab5bde0-32e3-45ea-98c9-148d3d88d661",
   "metadata": {
    "tags": []
   },
   "outputs": [
    {
     "data": {
      "text/html": [
       "<style>#sk-container-id-2 {color: black;background-color: white;}#sk-container-id-2 pre{padding: 0;}#sk-container-id-2 div.sk-toggleable {background-color: white;}#sk-container-id-2 label.sk-toggleable__label {cursor: pointer;display: block;width: 100%;margin-bottom: 0;padding: 0.3em;box-sizing: border-box;text-align: center;}#sk-container-id-2 label.sk-toggleable__label-arrow:before {content: \"▸\";float: left;margin-right: 0.25em;color: #696969;}#sk-container-id-2 label.sk-toggleable__label-arrow:hover:before {color: black;}#sk-container-id-2 div.sk-estimator:hover label.sk-toggleable__label-arrow:before {color: black;}#sk-container-id-2 div.sk-toggleable__content {max-height: 0;max-width: 0;overflow: hidden;text-align: left;background-color: #f0f8ff;}#sk-container-id-2 div.sk-toggleable__content pre {margin: 0.2em;color: black;border-radius: 0.25em;background-color: #f0f8ff;}#sk-container-id-2 input.sk-toggleable__control:checked~div.sk-toggleable__content {max-height: 200px;max-width: 100%;overflow: auto;}#sk-container-id-2 input.sk-toggleable__control:checked~label.sk-toggleable__label-arrow:before {content: \"▾\";}#sk-container-id-2 div.sk-estimator input.sk-toggleable__control:checked~label.sk-toggleable__label {background-color: #d4ebff;}#sk-container-id-2 div.sk-label input.sk-toggleable__control:checked~label.sk-toggleable__label {background-color: #d4ebff;}#sk-container-id-2 input.sk-hidden--visually {border: 0;clip: rect(1px 1px 1px 1px);clip: rect(1px, 1px, 1px, 1px);height: 1px;margin: -1px;overflow: hidden;padding: 0;position: absolute;width: 1px;}#sk-container-id-2 div.sk-estimator {font-family: monospace;background-color: #f0f8ff;border: 1px dotted black;border-radius: 0.25em;box-sizing: border-box;margin-bottom: 0.5em;}#sk-container-id-2 div.sk-estimator:hover {background-color: #d4ebff;}#sk-container-id-2 div.sk-parallel-item::after {content: \"\";width: 100%;border-bottom: 1px solid gray;flex-grow: 1;}#sk-container-id-2 div.sk-label:hover label.sk-toggleable__label {background-color: #d4ebff;}#sk-container-id-2 div.sk-serial::before {content: \"\";position: absolute;border-left: 1px solid gray;box-sizing: border-box;top: 0;bottom: 0;left: 50%;z-index: 0;}#sk-container-id-2 div.sk-serial {display: flex;flex-direction: column;align-items: center;background-color: white;padding-right: 0.2em;padding-left: 0.2em;position: relative;}#sk-container-id-2 div.sk-item {position: relative;z-index: 1;}#sk-container-id-2 div.sk-parallel {display: flex;align-items: stretch;justify-content: center;background-color: white;position: relative;}#sk-container-id-2 div.sk-item::before, #sk-container-id-2 div.sk-parallel-item::before {content: \"\";position: absolute;border-left: 1px solid gray;box-sizing: border-box;top: 0;bottom: 0;left: 50%;z-index: -1;}#sk-container-id-2 div.sk-parallel-item {display: flex;flex-direction: column;z-index: 1;position: relative;background-color: white;}#sk-container-id-2 div.sk-parallel-item:first-child::after {align-self: flex-end;width: 50%;}#sk-container-id-2 div.sk-parallel-item:last-child::after {align-self: flex-start;width: 50%;}#sk-container-id-2 div.sk-parallel-item:only-child::after {width: 0;}#sk-container-id-2 div.sk-dashed-wrapped {border: 1px dashed gray;margin: 0 0.4em 0.5em 0.4em;box-sizing: border-box;padding-bottom: 0.4em;background-color: white;}#sk-container-id-2 div.sk-label label {font-family: monospace;font-weight: bold;display: inline-block;line-height: 1.2em;}#sk-container-id-2 div.sk-label-container {text-align: center;}#sk-container-id-2 div.sk-container {/* jupyter's `normalize.less` sets `[hidden] { display: none; }` but bootstrap.min.css set `[hidden] { display: none !important; }` so we also need the `!important` here to be able to override the default hidden behavior on the sphinx rendered scikit-learn.org. See: https://github.com/scikit-learn/scikit-learn/issues/21755 */display: inline-block !important;position: relative;}#sk-container-id-2 div.sk-text-repr-fallback {display: none;}</style><div id=\"sk-container-id-2\" class=\"sk-top-container\"><div class=\"sk-text-repr-fallback\"><pre>RandomForestClassifier()</pre><b>In a Jupyter environment, please rerun this cell to show the HTML representation or trust the notebook. <br />On GitHub, the HTML representation is unable to render, please try loading this page with nbviewer.org.</b></div><div class=\"sk-container\" hidden><div class=\"sk-item\"><div class=\"sk-estimator sk-toggleable\"><input class=\"sk-toggleable__control sk-hidden--visually\" id=\"sk-estimator-id-2\" type=\"checkbox\" checked><label for=\"sk-estimator-id-2\" class=\"sk-toggleable__label sk-toggleable__label-arrow\">RandomForestClassifier</label><div class=\"sk-toggleable__content\"><pre>RandomForestClassifier()</pre></div></div></div></div></div>"
      ],
      "text/plain": [
       "RandomForestClassifier()"
      ]
     },
     "execution_count": 23,
     "metadata": {},
     "output_type": "execute_result"
    }
   ],
   "source": [
    "rf = RandomForestClassifier()\n",
    "rf.fit(xv_train,y_train)"
   ]
  },
  {
   "cell_type": "code",
   "execution_count": 24,
   "id": "6658efab-2832-4b0c-af63-3c2b558d9ec9",
   "metadata": {
    "tags": []
   },
   "outputs": [],
   "source": [
    "rf_pred = rf.predict(xv_test)"
   ]
  },
  {
   "cell_type": "code",
   "execution_count": 25,
   "id": "c80d0942-027f-4050-8cb2-2cafb81004df",
   "metadata": {
    "tags": []
   },
   "outputs": [
    {
     "data": {
      "text/plain": [
       "0.9839643652561247"
      ]
     },
     "execution_count": 25,
     "metadata": {},
     "output_type": "execute_result"
    }
   ],
   "source": [
    "rf.score(xv_test,y_test)"
   ]
  },
  {
   "cell_type": "code",
   "execution_count": 26,
   "id": "c19b764d-afb4-49c0-995c-331bfc258b8d",
   "metadata": {
    "tags": []
   },
   "outputs": [
    {
     "name": "stdout",
     "output_type": "stream",
     "text": [
      "              precision    recall  f1-score   support\n",
      "\n",
      "           0       0.99      0.98      0.98      7009\n",
      "           1       0.98      0.99      0.98      6461\n",
      "\n",
      "    accuracy                           0.98     13470\n",
      "   macro avg       0.98      0.98      0.98     13470\n",
      "weighted avg       0.98      0.98      0.98     13470\n",
      "\n"
     ]
    }
   ],
   "source": [
    "print(classification_report(y_test,rf_pred))"
   ]
  },
  {
   "cell_type": "markdown",
   "id": "6626eaa7-dc5d-47c0-9db0-c4c4e1ba0b2a",
   "metadata": {
    "tags": []
   },
   "source": [
    "#### Decision Tree Classifier"
   ]
  },
  {
   "cell_type": "code",
   "execution_count": 29,
   "id": "2b31cd8f-315a-44a2-b343-8a6c2e27920c",
   "metadata": {
    "tags": []
   },
   "outputs": [
    {
     "data": {
      "text/html": [
       "<style>#sk-container-id-3 {color: black;background-color: white;}#sk-container-id-3 pre{padding: 0;}#sk-container-id-3 div.sk-toggleable {background-color: white;}#sk-container-id-3 label.sk-toggleable__label {cursor: pointer;display: block;width: 100%;margin-bottom: 0;padding: 0.3em;box-sizing: border-box;text-align: center;}#sk-container-id-3 label.sk-toggleable__label-arrow:before {content: \"▸\";float: left;margin-right: 0.25em;color: #696969;}#sk-container-id-3 label.sk-toggleable__label-arrow:hover:before {color: black;}#sk-container-id-3 div.sk-estimator:hover label.sk-toggleable__label-arrow:before {color: black;}#sk-container-id-3 div.sk-toggleable__content {max-height: 0;max-width: 0;overflow: hidden;text-align: left;background-color: #f0f8ff;}#sk-container-id-3 div.sk-toggleable__content pre {margin: 0.2em;color: black;border-radius: 0.25em;background-color: #f0f8ff;}#sk-container-id-3 input.sk-toggleable__control:checked~div.sk-toggleable__content {max-height: 200px;max-width: 100%;overflow: auto;}#sk-container-id-3 input.sk-toggleable__control:checked~label.sk-toggleable__label-arrow:before {content: \"▾\";}#sk-container-id-3 div.sk-estimator input.sk-toggleable__control:checked~label.sk-toggleable__label {background-color: #d4ebff;}#sk-container-id-3 div.sk-label input.sk-toggleable__control:checked~label.sk-toggleable__label {background-color: #d4ebff;}#sk-container-id-3 input.sk-hidden--visually {border: 0;clip: rect(1px 1px 1px 1px);clip: rect(1px, 1px, 1px, 1px);height: 1px;margin: -1px;overflow: hidden;padding: 0;position: absolute;width: 1px;}#sk-container-id-3 div.sk-estimator {font-family: monospace;background-color: #f0f8ff;border: 1px dotted black;border-radius: 0.25em;box-sizing: border-box;margin-bottom: 0.5em;}#sk-container-id-3 div.sk-estimator:hover {background-color: #d4ebff;}#sk-container-id-3 div.sk-parallel-item::after {content: \"\";width: 100%;border-bottom: 1px solid gray;flex-grow: 1;}#sk-container-id-3 div.sk-label:hover label.sk-toggleable__label {background-color: #d4ebff;}#sk-container-id-3 div.sk-serial::before {content: \"\";position: absolute;border-left: 1px solid gray;box-sizing: border-box;top: 0;bottom: 0;left: 50%;z-index: 0;}#sk-container-id-3 div.sk-serial {display: flex;flex-direction: column;align-items: center;background-color: white;padding-right: 0.2em;padding-left: 0.2em;position: relative;}#sk-container-id-3 div.sk-item {position: relative;z-index: 1;}#sk-container-id-3 div.sk-parallel {display: flex;align-items: stretch;justify-content: center;background-color: white;position: relative;}#sk-container-id-3 div.sk-item::before, #sk-container-id-3 div.sk-parallel-item::before {content: \"\";position: absolute;border-left: 1px solid gray;box-sizing: border-box;top: 0;bottom: 0;left: 50%;z-index: -1;}#sk-container-id-3 div.sk-parallel-item {display: flex;flex-direction: column;z-index: 1;position: relative;background-color: white;}#sk-container-id-3 div.sk-parallel-item:first-child::after {align-self: flex-end;width: 50%;}#sk-container-id-3 div.sk-parallel-item:last-child::after {align-self: flex-start;width: 50%;}#sk-container-id-3 div.sk-parallel-item:only-child::after {width: 0;}#sk-container-id-3 div.sk-dashed-wrapped {border: 1px dashed gray;margin: 0 0.4em 0.5em 0.4em;box-sizing: border-box;padding-bottom: 0.4em;background-color: white;}#sk-container-id-3 div.sk-label label {font-family: monospace;font-weight: bold;display: inline-block;line-height: 1.2em;}#sk-container-id-3 div.sk-label-container {text-align: center;}#sk-container-id-3 div.sk-container {/* jupyter's `normalize.less` sets `[hidden] { display: none; }` but bootstrap.min.css set `[hidden] { display: none !important; }` so we also need the `!important` here to be able to override the default hidden behavior on the sphinx rendered scikit-learn.org. See: https://github.com/scikit-learn/scikit-learn/issues/21755 */display: inline-block !important;position: relative;}#sk-container-id-3 div.sk-text-repr-fallback {display: none;}</style><div id=\"sk-container-id-3\" class=\"sk-top-container\"><div class=\"sk-text-repr-fallback\"><pre>DecisionTreeClassifier()</pre><b>In a Jupyter environment, please rerun this cell to show the HTML representation or trust the notebook. <br />On GitHub, the HTML representation is unable to render, please try loading this page with nbviewer.org.</b></div><div class=\"sk-container\" hidden><div class=\"sk-item\"><div class=\"sk-estimator sk-toggleable\"><input class=\"sk-toggleable__control sk-hidden--visually\" id=\"sk-estimator-id-3\" type=\"checkbox\" checked><label for=\"sk-estimator-id-3\" class=\"sk-toggleable__label sk-toggleable__label-arrow\">DecisionTreeClassifier</label><div class=\"sk-toggleable__content\"><pre>DecisionTreeClassifier()</pre></div></div></div></div></div>"
      ],
      "text/plain": [
       "DecisionTreeClassifier()"
      ]
     },
     "execution_count": 29,
     "metadata": {},
     "output_type": "execute_result"
    }
   ],
   "source": [
    "dc = DecisionTreeClassifier()\n",
    "dc.fit(xv_train,y_train)"
   ]
  },
  {
   "cell_type": "code",
   "execution_count": 30,
   "id": "74304770-27ae-4930-9435-46d8ddc09d24",
   "metadata": {
    "tags": []
   },
   "outputs": [],
   "source": [
    "dc_pred = dc.predict(xv_test)"
   ]
  },
  {
   "cell_type": "code",
   "execution_count": 31,
   "id": "a4ac9730-da89-465c-bfd6-511e31a4ff30",
   "metadata": {
    "tags": []
   },
   "outputs": [
    {
     "data": {
      "text/plain": [
       "0.9960653303637713"
      ]
     },
     "execution_count": 31,
     "metadata": {},
     "output_type": "execute_result"
    }
   ],
   "source": [
    "dc.score(xv_test,y_test)"
   ]
  },
  {
   "cell_type": "code",
   "execution_count": 32,
   "id": "885e2061-e68d-43ed-81d6-a3edf2daa6c7",
   "metadata": {
    "tags": []
   },
   "outputs": [
    {
     "name": "stdout",
     "output_type": "stream",
     "text": [
      "              precision    recall  f1-score   support\n",
      "\n",
      "           0       1.00      1.00      1.00      7009\n",
      "           1       1.00      1.00      1.00      6461\n",
      "\n",
      "    accuracy                           1.00     13470\n",
      "   macro avg       1.00      1.00      1.00     13470\n",
      "weighted avg       1.00      1.00      1.00     13470\n",
      "\n"
     ]
    }
   ],
   "source": [
    "print(classification_report(y_test,dc_pred))"
   ]
  },
  {
   "cell_type": "markdown",
   "id": "0e708a0f-72e3-4ab9-bde7-bf333d2c2664",
   "metadata": {},
   "source": [
    "### Confusion Matrix"
   ]
  },
  {
   "cell_type": "code",
   "execution_count": 33,
   "id": "6711bb28-9e14-49ff-9565-ba70f5c497d8",
   "metadata": {
    "tags": []
   },
   "outputs": [],
   "source": [
    "def plot_confusion_matrix(y,y_predict):\n",
    "    \"this function plots the confusion matrix\"\n",
    "    from sklearn.metrics import confusion_matrix\n",
    "\n",
    "    cm = confusion_matrix(y, y_predict)\n",
    "    ax= plt.subplot()\n",
    "    sns.heatmap(cm, annot=True,fmt = \"d\", cmap = \"Blues\", ax = ax); #annot=True to annotate cells\n",
    "    ax.set_xlabel('Predicted labels')\n",
    "    ax.set_ylabel('Actual labels')\n",
    "    ax.set_title('Confusion Matrix');\n",
    "    ax.xaxis.set_ticklabels(['Fake', 'Not Fake']); ax.yaxis.set_ticklabels(['Fake', 'Not Fake'])"
   ]
  },
  {
   "cell_type": "code",
   "execution_count": 34,
   "id": "d9850ebe-6e12-479b-a7b1-7d2903dfcdb2",
   "metadata": {
    "tags": []
   },
   "outputs": [
    {
     "data": {
      "image/png": "[encoded data removed]",
      "text/plain": [
       "<Figure size 640x480 with 2 Axes>"
      ]
     },
     "metadata": {},
     "output_type": "display_data"
    }
   ],
   "source": [
    "# ploting confusion matrix for the highest accuracy model\n",
    "plot_confusion_matrix(y_test,dc_pred)"
   ]
  },
  {
   "cell_type": "markdown",
   "id": "850e3540-17f9-4953-a84e-247c960f7c0d",
   "metadata": {},
   "source": [
    "#### Manual Testing of the Model\n",
    "For manual testing encoding the labels to the news where if news is not true encoding \"Fake News\" while if the news is true encoding \"Not a Fake News\""
   ]
  },
  {
   "cell_type": "code",
   "execution_count": 35,
   "id": "c97ad228-bee2-415b-90b5-ae66c70955f2",
   "metadata": {},
   "outputs": [],
   "source": [
    "def output_labels(n):\n",
    "    if n == 0:\n",
    "        return \"Fake News\"\n",
    "    if n == 1:\n",
    "        return \"Not a Fake News\"\n",
    "    \n",
    "def Manual_testing(news):\n",
    "    testing_news = {\"text\": [news]}\n",
    "    news_df_test = pd.DataFrame(testing_news)\n",
    "    news_df_test['text'] = news_df_test['text'].apply(clean_text)\n",
    "    news_test = news_df_test['text']\n",
    "    news_xv_test = tf.transform(news_test)\n",
    "    LR_pred = lr.predict(news_xv_test)\n",
    "    RF_pred = rf.predict(news_xv_test)\n",
    "    DC_pred = dc.predict(news_xv_test)\n",
    "    return print(\"\\n\\nLogisticRegression: {} \\nRandom Forest: {} \\nDecisionTree: {}\".format(output_labels(LR_pred[0]),\n",
    "                                                                                            output_labels(RF_pred[0]),\n",
    "                                                                                            output_labels(DC_pred[0])))"
   ]
  },
  {
   "cell_type": "code",
   "execution_count": 36,
   "id": "61404036-fd6c-4d80-b451-baec7d17556a",
   "metadata": {
    "tags": []
   },
   "outputs": [
    {
     "name": "stdin",
     "output_type": "stream",
     "text": [
      " \ttitle 99\t OOPS: Trump Judicial Nominee Didn’t Tell Congress About Marriage To White House Attorney\n"
     ]
    },
    {
     "name": "stdout",
     "output_type": "stream",
     "text": [
      "\n",
      "\n",
      "LogisticRegression: Fake News \n",
      "Random Forest: Fake News \n",
      "DecisionTree: Fake News\n"
     ]
    }
   ],
   "source": [
    "news = str(input())\n",
    "Manual_testing(news)"
   ]
  },
  {
   "cell_type": "code",
   "execution_count": 37,
   "id": "7e43bb89-f5c5-463b-a383-f9b014341101",
   "metadata": {
    "tags": []
   },
   "outputs": [
    {
     "name": "stdin",
     "output_type": "stream",
     "text": [
      " \ttext 112\tWASHINGTON (Reuters) - The Republican-controlled U.S. House of Representatives is expected to vote on sweeping tax legislation early Tuesday afternoon, aides said, bringing President Donald Trump’s goal of overhauling the U.S. tax system one step closer to fruition. The vote, on a final bill agreed by House and Senate Republicans last week, could come around 1:30 p.m. EST (1830 GMT), the aides said.  Both the House and Senate must approve the measure before Trump can sign it into law. The Senate is expected to vote on the bill as early as Tuesday but must complete 10 hours of debate before acting. It was not clear when debate would begin.     \n"
     ]
    },
    {
     "name": "stdout",
     "output_type": "stream",
     "text": [
      "\n",
      "\n",
      "LogisticRegression: Not a Fake News \n",
      "Random Forest: Not a Fake News \n",
      "DecisionTree: Not a Fake News\n"
     ]
    }
   ],
   "source": [
    "news = str(input())\n",
    "Manual_testing(news)"
   ]
  },
  {
   "cell_type": "code",
   "execution_count": null,
   "id": "ad5a911c-d08f-4ed0-a8e2-369dd6e13675",
   "metadata": {},
   "outputs": [],
   "source": []
  }
 ],
 "metadata": {
  "kernelspec": {
   "display_name": "Python 3 (ipykernel)",
   "language": "python",
   "name": "python3"
  },
  "language_info": {
   "codemirror_mode": {
    "name": "ipython",
    "version": 3
   },
   "file_extension": ".py",
   "mimetype": "text/x-python",
   "name": "python",
   "nbconvert_exporter": "python",
   "pygments_lexer": "ipython3",
   "version": "3.11.2"
  },
  "widgets": {
   "application/vnd.jupyter.widget-state+json": {
    "state": {},
    "version_major": 2,
    "version_minor": 0
   }
  }
 },
 "nbformat": 4,
 "nbformat_minor": 5
}
